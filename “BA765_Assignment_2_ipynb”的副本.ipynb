{
  "nbformat": 4,
  "nbformat_minor": 0,
  "metadata": {
    "colab": {
      "name": "“BA765_Assignment_2.ipynb”的副本",
      "provenance": [],
      "collapsed_sections": [],
      "include_colab_link": true
    },
    "kernelspec": {
      "name": "python3",
      "display_name": "Python 3"
    }
  },
  "cells": [
    {
      "cell_type": "markdown",
      "metadata": {
        "id": "view-in-github",
        "colab_type": "text"
      },
      "source": [
        "<a href=\"https://colab.research.google.com/github/Jiajiazhi/ba765-assignments/blob/main/%E2%80%9CBA765_Assignment_2_ipynb%E2%80%9D%E7%9A%84%E5%89%AF%E6%9C%AC.ipynb\" target=\"_parent\"><img src=\"https://colab.research.google.com/assets/colab-badge.svg\" alt=\"Open In Colab\"/></a>"
      ]
    },
    {
      "cell_type": "markdown",
      "metadata": {
        "id": "mzv8h94p1lp9"
      },
      "source": [
        "# Assignment 2\n",
        "\n",
        "Complete the questions below by answering each question using the appropriate variable name. Do not change the variable names.  \n",
        "\n",
        "To keep the file sizes small, I provide you with very low volume of data, but this does not mean you should use visual inspection. For example, if the maximum value of a list is asked, find it via code, not via visual inspection. \n",
        "\n",
        "Once you completed this assignment, upload the notebook to your GitHub repository (same one that you used for assignment 1) and export your work also as `a2.py` (with this name and format) and submit to QuestromTools course site.\n",
        "\n",
        "ENJOY!"
      ]
    },
    {
      "cell_type": "markdown",
      "metadata": {
        "id": "81VWGDeE2Khh"
      },
      "source": [
        "# Question 1:\n"
      ]
    },
    {
      "cell_type": "code",
      "metadata": {
        "id": "6S3uH33EH4k6"
      },
      "source": [
        "# STARTER CODE\n",
        "\n",
        "# imports\n",
        "import requests\n",
        "\n",
        "# the URL\n",
        "URL = \"https://www.metaweather.com/api/location/search/?query=boston\"\n",
        "\n",
        "# the API response setup for this question\n",
        "resp = requests.get(URL).json()"
      ],
      "execution_count": 1,
      "outputs": []
    },
    {
      "cell_type": "code",
      "metadata": {
        "id": "By9Oc7syIW4u"
      },
      "source": [
        "# Q1:  save a variable q1_1, which _extracts_ the dictionary from the variable resp provided\n",
        "#      to you in the starter code for Question 1\n",
        "q1_1 = resp[0]\n",
        "\n",
        "\n"
      ],
      "execution_count": 2,
      "outputs": []
    },
    {
      "cell_type": "code",
      "metadata": {
        "id": "g-7uAzeFI0_f",
        "colab": {
          "base_uri": "https://localhost:8080/"
        },
        "outputId": "e4caa6d5-a065-472b-8598-e211a884ae3c"
      },
      "source": [
        "# Q2: In the variable q1_2, save the keys of the dictionary in q1 as a list\n",
        "q1_2 = q1_1.keys()\n",
        "q1_2\n",
        "\n"
      ],
      "execution_count": 4,
      "outputs": [
        {
          "output_type": "execute_result",
          "data": {
            "text/plain": [
              "[dict_keys(['title', 'location_type', 'woeid', 'latt_long'])]"
            ]
          },
          "metadata": {
            "tags": []
          },
          "execution_count": 4
        }
      ]
    },
    {
      "cell_type": "code",
      "metadata": {
        "id": "hzwzYD3vI1H1"
      },
      "source": [
        "# Q3: extract the latitude (lat) and longitude (lng) from the dictionary\n",
        "#     Each value should be a float\n",
        "#     TIP: the dictionary key provides guidance on the order\n",
        "location=q1_1.get('latt_long').split(',')\n",
        "\n",
        "lat = float(location[0])\n",
        "lng = float(location[1])\n",
        "\n",
        "\n"
      ],
      "execution_count": 9,
      "outputs": []
    },
    {
      "cell_type": "code",
      "metadata": {
        "id": "qUsFGz-4I1LU",
        "colab": {
          "base_uri": "https://localhost:8080/"
        },
        "outputId": "1364085f-fb8a-4501-e47b-e38589e5909f"
      },
      "source": [
        "# Q4: using the dictionary key woeid from q1, keep only the even numbers from the id\n",
        "#     save the values as seperate entries in a list. Save this list as the variable q1_4\n",
        "Woeid=[]\n",
        "number=str(q1_1.get('woeid'))\n",
        "number\n",
        "i=-1\n",
        "while i<len(number)-2:\n",
        "  i+=1\n",
        "  if int(number[i])%2==0:\n",
        "    Woeid.append(int(number[i]))\n",
        "Woeid\n",
        "q1_4 =Woeid \n",
        "\n",
        "\n",
        "\n"
      ],
      "execution_count": 32,
      "outputs": [
        {
          "output_type": "execute_result",
          "data": {
            "text/plain": [
              "[2, 6, 0]"
            ]
          },
          "metadata": {
            "tags": []
          },
          "execution_count": 32
        }
      ]
    },
    {
      "cell_type": "markdown",
      "metadata": {
        "id": "WhPv5Ew0Mq-k"
      },
      "source": [
        "# Question 2\n",
        "\n",
        "You have been provided a file that can be read in with the following code:\n",
        "\n",
        "```\n",
        "import pickle\n",
        "with open('q2.pkl', 'rb') as file:\n",
        "  jokes = pickle.load(file)\n",
        "```\n",
        "\n",
        "In your session, `jokes` is a list of dictionaries.  You will use this object to answer the questions below.\n",
        "\n",
        "> Hint:  If you are using Google Colab, you will need to upload the `q2.pkl` file in your gDrive or to the Colab Sesssion. "
      ]
    },
    {
      "cell_type": "code",
      "metadata": {
        "id": "mvnogqIgu2eH"
      },
      "source": [
        "import pickle\n",
        "with open('q2_updated.pkl', 'rb') as file:\n",
        "  jokes = pickle.load(file)"
      ],
      "execution_count": 25,
      "outputs": []
    },
    {
      "cell_type": "code",
      "metadata": {
        "id": "ZbHfSisTMC8A",
        "colab": {
          "base_uri": "https://localhost:8080/"
        },
        "outputId": "a04fc76a-fc74-481a-ab56-3c6ba766312f"
      },
      "source": [
        "# Q1:  q2_1 should represent a set of the values from the categories key.\n",
        "categorie=[]\n",
        "for i in jokes:\n",
        "  value=i.get('value')\n",
        "  value2=value.get('categories')\n",
        "  categorie.append(value2)\n",
        "\n",
        "q2_1 =categorie\n",
        "q2_1\n",
        "   "
      ],
      "execution_count": 33,
      "outputs": [
        {
          "output_type": "execute_result",
          "data": {
            "text/plain": [
              "[['plain'], ['dad joke'], ['bad joke'], ['nerdy'], ['nerdy']]"
            ]
          },
          "metadata": {
            "tags": []
          },
          "execution_count": 33
        }
      ]
    },
    {
      "cell_type": "code",
      "metadata": {
        "id": "Wpc1ehwYN0bP",
        "colab": {
          "base_uri": "https://localhost:8080/"
        },
        "outputId": "9beb15ad-e7ab-41e9-9c22-084a9aa2be54"
      },
      "source": [
        "# Q2: What is the largest value (max) across the key id.  Save this value as q2_2\n",
        "ids=[]\n",
        "for i in jokes:\n",
        "  value=i.get('value')\n",
        "  value2=value.get('id')\n",
        "  ids.append(value2)\n",
        "a=0\n",
        "max=0\n",
        "while a<len(ids)-1:\n",
        "  x=ids[a]\n",
        "  y=ids[a+1]\n",
        "  if x<=y:\n",
        "    max=y\n",
        "  else:\n",
        "    max=x\n",
        "  a+=1\n",
        "\n",
        "q2_2 = max\n",
        "q2_2"
      ],
      "execution_count": 35,
      "outputs": [
        {
          "output_type": "execute_result",
          "data": {
            "text/plain": [
              "490"
            ]
          },
          "metadata": {
            "tags": []
          },
          "execution_count": 35
        }
      ]
    },
    {
      "cell_type": "code",
      "metadata": {
        "id": "NDBlwbi3N0gY",
        "colab": {
          "base_uri": "https://localhost:8080/"
        },
        "outputId": "35129862-cc3a-4a01-d6c6-f5f7bb24a51a"
      },
      "source": [
        "# Q3: Each entry of jokes has a joke key.  This is a sentence pulled randomly from an online jokes api.  \n",
        "#     Remove the following characters '.,!' (punctuation present in these jokes)\n",
        "#     Make the text lower case.\n",
        "#     Add each word in each entry as a key to a dictionary you store in the variable q2_3 below.\n",
        "#     The value for each key should represent the total number of times the word appeared across the jokes object\n",
        "#     Summary: q2_3 should be a dictionary of word:count pairs, where count is the number of times the word appeared\n",
        "#              across all entries of jokes in the joke key\n",
        "#  \n",
        "import string   \n",
        "words=''\n",
        "for i in jokes:\n",
        "  value=i.get('value')\n",
        "  value2=value.get('joke')\n",
        "  words=words+\" \"+value2\n",
        "words.lower()\n",
        "punctuation_string=string.punctuation\n",
        "for i in punctuation_string:\n",
        "  words=words.replace(i,'')\n",
        "wordlist=words.split(' ')\n",
        "\n",
        "q2_3 = dict()\n",
        "for i in wordlist:\n",
        "  q2_3[i]=wordlist.count(i)\n",
        "q2_3 \n",
        "\n",
        "\n"
      ],
      "execution_count": 37,
      "outputs": [
        {
          "output_type": "execute_result",
          "data": {
            "text/plain": [
              "{'': 1,\n",
              " 'AJAX': 1,\n",
              " 'Chuck': 4,\n",
              " 'He': 1,\n",
              " 'Norris': 4,\n",
              " 'Ranger': 1,\n",
              " 'Superman': 1,\n",
              " 'Texas': 1,\n",
              " 'The': 2,\n",
              " 'Unless': 1,\n",
              " 'Walker': 1,\n",
              " 'afraid': 1,\n",
              " 'an': 1,\n",
              " 'and': 1,\n",
              " 'anyways': 1,\n",
              " 'are': 1,\n",
              " 'because': 1,\n",
              " 'boils': 1,\n",
              " 'buddy': 1,\n",
              " 'case': 1,\n",
              " 'class': 1,\n",
              " 'coffee': 1,\n",
              " 'cried': 1,\n",
              " 'doesnt': 1,\n",
              " 'episode': 1,\n",
              " 'forget': 1,\n",
              " 'free': 1,\n",
              " 'from': 1,\n",
              " 'grinds': 1,\n",
              " 'has': 1,\n",
              " 'himself': 1,\n",
              " 'his': 3,\n",
              " 'in': 1,\n",
              " 'inherits': 1,\n",
              " 'it': 1,\n",
              " 'need': 1,\n",
              " 'object': 1,\n",
              " 'of': 1,\n",
              " 'once': 1,\n",
              " 'own': 1,\n",
              " 'pages': 1,\n",
              " 'postback': 1,\n",
              " 'rage': 1,\n",
              " 'set': 1,\n",
              " 'sleep': 1,\n",
              " 'teeth': 1,\n",
              " 'the': 1,\n",
              " 'then': 1,\n",
              " 'to': 3,\n",
              " 'too': 1,\n",
              " 'truth': 1,\n",
              " 'use': 1,\n",
              " 'watched': 1,\n",
              " 'water': 1,\n",
              " 'which': 1,\n",
              " 'will': 1,\n",
              " 'with': 2,\n",
              " 'you': 2}"
            ]
          },
          "metadata": {
            "tags": []
          },
          "execution_count": 37
        }
      ]
    },
    {
      "cell_type": "markdown",
      "metadata": {
        "id": "Y1PXAz_7y2ze"
      },
      "source": [
        "# Question 3\n",
        "\n",
        "Write a function called `guessing_game` that satisfies the following requirements:\n",
        "\n",
        "1.  When the function is called, the user is prompted to guess a word\n",
        "1.  The function, internally, will randomly choose a word for the game.  The population of word (the word list) is shown below.\n",
        "1.  If the user does not guess the proper word, the user should be prompted again to try another guess\n",
        "1.  The user is only allowed 3 guesses.  If the user fails to guess the chosen word after 3 attempts, the message `Sorry, the game is over.` should be printed to the screen.\n",
        "1.  If the user enters a word not part of the list below, the message `That word is not part of the vocabulary.` should be printed to the screen.  However, if this situation occurs during the 3rd failed guess, only the message in step 4 should be printed.\n",
        "1.  If the user correctly guesses the word, the message `Correct! Well Done.` should be printed on the screen.\n",
        "1.  If a string is not input by the user, the function should print `You did not guess a string, Game Over!` and end the game. You can use `string` package as in `string.ascii_letters` to guarantee that the entry is a string semantically.\n",
        "\n",
        "\n",
        "\n",
        "The word list that should be used by the function:\n",
        "\n",
        "- `numpy`\n",
        "- `seaborn`\n",
        "- `pandas`\n",
        "- `pantab`\n",
        "- `spacy`\n",
        "- `requests`\n",
        "- `tensorflow`\n",
        "\n"
      ]
    },
    {
      "cell_type": "code",
      "metadata": {
        "id": "YdSB88Mi3r3f",
        "colab": {
          "base_uri": "https://localhost:8080/"
        },
        "outputId": "1dbade39-a45a-4c21-f25d-c22856a63cda"
      },
      "source": [
        "# build your function below\n",
        "import string\n",
        "import numpy as np\n",
        "def guessing_game():\n",
        "  np.random.seed(1)\n",
        "  wordlist=['numpy','seaborn','pandas','pantab','spacy','requests','tensorflow']\n",
        "  i=0\n",
        "  guess = input(\"Guess a word:\")\n",
        "  actual = np.random.choice(wordlist,1)[0] \n",
        "  print(actual)\n",
        "  if type(guess)!=(str):\n",
        "    print('You did not guess a string, Game Over!')\n",
        "  while i<=3:\n",
        "    if guess==actual:\n",
        "      print(\"Correct! Well Done\")\n",
        "      break\n",
        "    elif i==2:\n",
        "      print('Sorry, the game is over.')\n",
        "      break\n",
        "    else:\n",
        "      print('That word is not part of the vocabulary')\n",
        "      i+=1\n",
        "      guess = input(\"Guess a word:\") \n",
        "\n",
        "guessing_game()"
      ],
      "execution_count": 1,
      "outputs": [
        {
          "output_type": "stream",
          "text": [
            "Guess a word:xxx\n",
            "requests\n",
            "That word is not part of the vocabulary\n",
            "Guess a word:numpy\n",
            "That word is not part of the vocabulary\n",
            "Guess a word:requests\n",
            "Correct! Well Done\n"
          ],
          "name": "stdout"
        }
      ]
    }
  ]
}